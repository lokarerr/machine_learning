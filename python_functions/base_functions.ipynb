{
 "cells": [
  {
   "cell_type": "code",
   "execution_count": 11,
   "metadata": {},
   "outputs": [],
   "source": [
    "import sys\n",
    "import datetime\n",
    "import os\n",
    "import argparse\n",
    "import time\n",
    "import subprocess\n",
    "import pandas as pd\n",
    "import seaborn as sns"
   ]
  },
  {
   "cell_type": "code",
   "execution_count": null,
   "metadata": {},
   "outputs": [],
   "source": [
    "#parser = argparse.ArgumentParser()\n",
    "#parser.add_argument('-op1', type=str , dest='op1', choices=['sp','cdl','v','rtl'] , required=True , help = \"Accepted output formats : sp,v,cdl,rtl\" )\n",
    "#parser.add_argument('-rundir', type=str , default=os.environ[\"USER\"]+\"/netlists/\" , help= \"Run directory, Default is $WARD/netlists/<format>\")\n",
    "#args = parser.parse_args()"
   ]
  },
  {
   "cell_type": "code",
   "execution_count": 7,
   "metadata": {
    "collapsed": true
   },
   "outputs": [],
   "source": [
    "def read_data(filename,format):\n",
    "    if format == 'json':\n",
    "        df=pd.read_json (filename)\n",
    "    else:\n",
    "        df=pd.read_csv(filename)\n",
    "    df.head(5) # disaply top 5 rows\n",
    "    df.describe() # Find mean, median, std deviation of each colomn\n",
    "    df.info() #print data type of each column. Can also use df.dtypes()\n",
    "    print(\"The file has\", df.shape[0] , \"rows and\", df.shape[1] , \"columns\")"
   ]
  },
  {
   "cell_type": "code",
   "execution_count": 8,
   "metadata": {
    "collapsed": true
   },
   "outputs": [],
   "source": [
    "def check_null_data(df):\n",
    "    print(df.isna().sum())"
   ]
  },
  {
   "cell_type": "code",
   "execution_count": 9,
   "metadata": {
    "collapsed": true
   },
   "outputs": [],
   "source": [
    "def get_categorical_data(df):\n",
    "    cat_columns = df.select_dtypes(include='object').columns # Get all catagorical columns\n",
    "    for col in cat_columns:\n",
    "        print(df[col].value_counts()) # groups by a column and displays number of occurances"
   ]
  },
  {
   "cell_type": "code",
   "execution_count": 10,
   "metadata": {
    "collapsed": true
   },
   "outputs": [],
   "source": [
    "def corr_matrix(df):\n",
    "    corr_matrix = df.corr() #display correlation of each numeric folumn with one another in terms if Pearson's correlation (-1 to 1)\n",
    "    plt.subplots(figsize=(10,7))\n",
    "    sns.heatmap(corr_matrix, square=True, annot=True, vmax=1.0, vmin=-1.0,cmap=\"RdBu\").set_title('Correlation Matrix')\n",
    "    plt.yticks(rotation=0)\n",
    "    plt.xticks(rotation=90)"
   ]
  },
  {
   "cell_type": "code",
   "execution_count": null,
   "metadata": {
    "collapsed": true
   },
   "outputs": [],
   "source": []
  }
 ],
 "metadata": {
  "kernelspec": {
   "display_name": "Python 3",
   "language": "python",
   "name": "python3"
  },
  "language_info": {
   "codemirror_mode": {
    "name": "ipython",
    "version": 3
   },
   "file_extension": ".py",
   "mimetype": "text/x-python",
   "name": "python",
   "nbconvert_exporter": "python",
   "pygments_lexer": "ipython3",
   "version": "3.6.3"
  }
 },
 "nbformat": 4,
 "nbformat_minor": 2
}
